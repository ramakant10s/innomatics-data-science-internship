{
 "cells": [
  {
   "cell_type": "code",
   "execution_count": null,
   "id": "04b573f4",
   "metadata": {},
   "outputs": [],
   "source": [
    "# find out the missing and duplicate value in a given list. list contain n natural number\n",
    "# list = [8,9,1,6,4,3,10,1,2,7]"
   ]
  },
  {
   "cell_type": "code",
   "execution_count": 1,
   "id": "e34c0169",
   "metadata": {},
   "outputs": [
    {
     "name": "stdout",
     "output_type": "stream",
     "text": [
      "missing value in the list is 5\n",
      "\n",
      "duplicate value is 1\n"
     ]
    }
   ],
   "source": [
    "list= [8,9,1,6,4,3,10,1,2,7]      # a function of sum of given list\n",
    "def sum_list(list):\n",
    "    sum_list = 0\n",
    "    for i in list:\n",
    "        sum_list+=i\n",
    "        i+1\n",
    "    return sum_list\n",
    "sum_of_list=(sum_list(list))\n",
    "\n",
    "\n",
    "final_list = []            # make a empty list to store value without repeating any number\n",
    "\n",
    "for i in list: \n",
    "    \n",
    "    if i not in final_list:        # condition to find the value only once \n",
    "        \n",
    "        final_list.append(i)       # put all unique value in a list\n",
    "        \n",
    "sum_of_final_list = sum_list(final_list) # using the funtion of sum find the sum without repeating value\n",
    "\n",
    "duplicate_value = sum_of_list-sum_of_final_list  # get the duplicate value \n",
    "\n",
    "len_list = len(list)\n",
    "\n",
    "sum_of_number = (len_list*(len_list+1))//2   #sum of n natural number\n",
    "\n",
    "missing_value = sum_of_number - sum_of_final_list # missing value\n",
    "\n",
    "print(f\"\"\"missing value in the list is {missing_value}\n",
    "\n",
    "duplicate value is {duplicate_value}\"\"\")"
   ]
  }
 ],
 "metadata": {
  "kernelspec": {
   "display_name": "Python 3",
   "language": "python",
   "name": "python3"
  },
  "language_info": {
   "codemirror_mode": {
    "name": "ipython",
    "version": 3
   },
   "file_extension": ".py",
   "mimetype": "text/x-python",
   "name": "python",
   "nbconvert_exporter": "python",
   "pygments_lexer": "ipython3",
   "version": "3.9.5"
  }
 },
 "nbformat": 4,
 "nbformat_minor": 5
}
